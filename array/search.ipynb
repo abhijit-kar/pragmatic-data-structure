{
 "cells": [
  {
   "cell_type": "markdown",
   "metadata": {},
   "source": [
    "# Sorted Array: O(log n)"
   ]
  },
  {
   "cell_type": "code",
   "execution_count": 1,
   "metadata": {
    "collapsed": true
   },
   "outputs": [],
   "source": [
    "def binarySearch(arr, low, high, item):\n",
    "    if high < low:\n",
    "        return -1\n",
    "    \n",
    "    mid = int(low + (high - low) / 2)    # Overflow Safe version of (low + high) / 2\n",
    "    \n",
    "    if item == arr[mid]:\n",
    "        return mid\n",
    "    \n",
    "    if item > arr[mid]:\n",
    "        return binarySearch(arr, (mid + 1), high, item)\n",
    "    \n",
    "    return binarySearch(arr, low, (mid - 1), item)"
   ]
  },
  {
   "cell_type": "code",
   "execution_count": 2,
   "metadata": {},
   "outputs": [
    {
     "data": {
      "text/plain": [
       "[1, 2, 3, 4, 5, 6, 7, 8, 9, 10]"
      ]
     },
     "execution_count": 2,
     "metadata": {},
     "output_type": "execute_result"
    }
   ],
   "source": [
    "arr = [1, 2, 3, 4, 5, 6, 7, 8, 9, 10]\n",
    "arr"
   ]
  },
  {
   "cell_type": "code",
   "execution_count": 3,
   "metadata": {},
   "outputs": [
    {
     "data": {
      "text/plain": [
       "2"
      ]
     },
     "execution_count": 3,
     "metadata": {},
     "output_type": "execute_result"
    }
   ],
   "source": [
    "binarySearch(arr, 0, len(arr), 3)"
   ]
  },
  {
   "cell_type": "markdown",
   "metadata": {},
   "source": [
    "# Sorted and Rotated: O(log n)\n",
    "With unknown pivot point"
   ]
  },
  {
   "cell_type": "code",
   "execution_count": 4,
   "metadata": {
    "collapsed": true
   },
   "outputs": [],
   "source": [
    "def binSearch(arr, low, high, item):\n",
    "    if high < low:\n",
    "        return -1\n",
    "    \n",
    "    mid = int(low + (high - low) / 2)\n",
    "    \n",
    "    if item == arr[mid]:\n",
    "        return mid\n",
    "    \n",
    "    # if first half is sorted\n",
    "    if arr[low] <= arr[mid]:\n",
    "        # check if the element might lie within\n",
    "        if item >= arr[low] and item <= arr[mid]:\n",
    "            return binSearch(arr, low, mid - 1, item)\n",
    "        \n",
    "        return binSearch(arr, mid + 1, high, item)\n",
    "    \n",
    "    # else second half must be sorted, check if item might lie within\n",
    "    if item >= arr[mid] and item <= arr[high]:\n",
    "        return binSearch(arr, mid + 1, high, item)\n",
    "    \n",
    "    return binSearch(arr, low, mid - 1, item)"
   ]
  },
  {
   "cell_type": "code",
   "execution_count": 5,
   "metadata": {},
   "outputs": [
    {
     "data": {
      "text/plain": [
       "[4, 5, 6, 7, 8, 9, 10, 1, 2, 3]"
      ]
     },
     "execution_count": 5,
     "metadata": {},
     "output_type": "execute_result"
    }
   ],
   "source": [
    "arr = [4, 5, 6, 7, 8, 9, 10, 1, 2, 3]\n",
    "arr"
   ]
  },
  {
   "cell_type": "code",
   "execution_count": 6,
   "metadata": {},
   "outputs": [
    {
     "data": {
      "text/plain": [
       "9"
      ]
     },
     "execution_count": 6,
     "metadata": {},
     "output_type": "execute_result"
    }
   ],
   "source": [
    "binSearch(arr, 0, len(arr) - 1, 3)"
   ]
  }
 ],
 "metadata": {
  "kernelspec": {
   "display_name": "Python 3",
   "language": "python",
   "name": "python3"
  },
  "language_info": {
   "codemirror_mode": {
    "name": "ipython",
    "version": 3
   },
   "file_extension": ".py",
   "mimetype": "text/x-python",
   "name": "python",
   "nbconvert_exporter": "python",
   "pygments_lexer": "ipython3",
   "version": "3.6.2"
  }
 },
 "nbformat": 4,
 "nbformat_minor": 2
}
